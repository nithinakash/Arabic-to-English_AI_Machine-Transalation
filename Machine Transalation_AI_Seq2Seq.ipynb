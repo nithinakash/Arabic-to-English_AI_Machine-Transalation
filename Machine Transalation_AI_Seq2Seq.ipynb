{
 "cells": [
  {
   "cell_type": "markdown",
   "id": "237be183",
   "metadata": {},
   "source": [
    "### Packages Required"
   ]
  },
  {
   "cell_type": "code",
   "execution_count": 1,
   "id": "d48efa50",
   "metadata": {},
   "outputs": [],
   "source": [
    "import numpy as np\n",
    "import tensorflow as tf\n",
    "from tensorflow import keras\n",
    "\n",
    "from keras.models import Model\n",
    "from keras.layers import Input,LSTM,Dense"
   ]
  },
  {
   "cell_type": "code",
   "execution_count": 2,
   "id": "b6ea82e3",
   "metadata": {},
   "outputs": [],
   "source": [
    "batch_size = 64\n",
    "epochs = 100\n",
    "latent_dim = 256\n",
    "num_samples = 10000\n",
    "data_path = ('C:/Users/Nithin/Downloads/Machine Transalation_AI_Seq2Seq/Datasets/ara-eng/ara.txt')"
   ]
  },
  {
   "cell_type": "code",
   "execution_count": 3,
   "id": "f988bc00",
   "metadata": {},
   "outputs": [],
   "source": [
    "input_texts = []\n",
    "target_texts = []\n",
    "input_characters = set()\n",
    "target_characters = set()"
   ]
  },
  {
   "cell_type": "code",
   "execution_count": 4,
   "id": "0e67a3b9",
   "metadata": {},
   "outputs": [],
   "source": [
    "with open(data_path,\"r\",encoding = \"utf-8\") as f:\n",
    "    lines = f.read().split(\"\\n\")"
   ]
  },
  {
   "cell_type": "code",
   "execution_count": 5,
   "id": "e7afcefe",
   "metadata": {},
   "outputs": [],
   "source": [
    "for line in lines[:min(num_samples,len(lines)-1)]:\n",
    "    input_text,target_text, _ = line.split(\"\\t\")\n",
    "    target_text = \"\\t\"+ target_text + \"\\n\"\n",
    "    input_texts.append(input_text)\n",
    "    target_texts.append(target_text)\n",
    "    for char in input_text:\n",
    "        if char not in input_characters:\n",
    "            input_characters.add(char)\n",
    "    for char in target_text:\n",
    "        if char not in target_characters:\n",
    "            target_characters.add(char)"
   ]
  },
  {
   "cell_type": "code",
   "execution_count": 6,
   "id": "184c5105",
   "metadata": {},
   "outputs": [],
   "source": [
    "input_characters = sorted(list(input_characters))\n",
    "target_characters = sorted(list(target_characters))\n",
    "\n",
    "num_encoder_tokens = len(input_characters)\n",
    "num_decoder_tokens = len(target_characters)\n",
    "\n",
    "max_encoder_seq_length = max([len(txt) for txt in input_texts])\n",
    "max_decoder_seq_length = max([len(txt) for txt in target_texts])"
   ]
  },
  {
   "cell_type": "code",
   "execution_count": 7,
   "id": "7ab0c621",
   "metadata": {},
   "outputs": [
    {
     "name": "stdout",
     "output_type": "stream",
     "text": [
      "no of samples :  10000\n",
      "no of unique input words : 71\n",
      "no of unique Output words : 94\n",
      "max seq length for inputs : 37\n",
      "max seq length for inputs : 54\n"
     ]
    }
   ],
   "source": [
    "print('no of samples : ',len(input_texts))\n",
    "print('no of unique input words :',num_encoder_tokens)\n",
    "print('no of unique Output words :',num_decoder_tokens)\n",
    "print('max seq length for inputs :',max_encoder_seq_length)\n",
    "print('max seq length for inputs :',max_decoder_seq_length)"
   ]
  },
  {
   "cell_type": "code",
   "execution_count": 17,
   "id": "efc90e4e",
   "metadata": {},
   "outputs": [],
   "source": [
    "input_token_index = dict([(char,i) for i,char in enumerate(input_characters)])\n",
    "target_token_index = dict([(char,i) for i,char in enumerate(target_characters)])"
   ]
  },
  {
   "cell_type": "code",
   "execution_count": 28,
   "id": "de573172",
   "metadata": {},
   "outputs": [],
   "source": [
    "encoder_input_data = np.zeros(\n",
    "    (len(input_texts),max_encoder_seq_length,num_encoder_tokens),dtype = 'float32'\n",
    ")"
   ]
  },
  {
   "cell_type": "code",
   "execution_count": 29,
   "id": "86aba4e2",
   "metadata": {},
   "outputs": [],
   "source": [
    "decoder_input_data = np.zeros(\n",
    "    (len(input_texts),max_decoder_seq_length,num_decoder_tokens),dtype = 'float32'\n",
    ")"
   ]
  },
  {
   "cell_type": "code",
   "execution_count": 30,
   "id": "5e2ed377",
   "metadata": {},
   "outputs": [],
   "source": [
    "decoder_target_data = np.zeros(\n",
    "    (len(input_texts),max_decoder_seq_length,num_decoder_tokens),dtype = 'float32'\n",
    ")"
   ]
  },
  {
   "cell_type": "code",
   "execution_count": 31,
   "id": "275d39ee",
   "metadata": {},
   "outputs": [],
   "source": [
    "for i, (input_text,target_text) in enumerate(zip(input_texts,target_texts)):\n",
    "    for t,char in enumerate(input_text):\n",
    "        encoder_input_data[i,t,input_token_index[char]] = 1.0\n",
    "        encoder_input_data[i,t + 1 :,input_token_index[\" \"]] = 1.0\n",
    "    for t,char in enumerate(target_text):\n",
    "        decoder_input_data[i,t,target_token_index[char]] = 1.0\n",
    "        if t > 0:\n",
    "            decoder_target_data[i,t-1,target_token_index[char]] = 1.0\n",
    "            \n",
    "    decoder_input_data[i,t + 1 :,target_token_index[\" \"]] = 1.0\n",
    "    decoder_target_data[i,t:,target_token_index[\" \"]] = 1.0"
   ]
  },
  {
   "cell_type": "code",
   "execution_count": 32,
   "id": "fd87bc06",
   "metadata": {},
   "outputs": [
    {
     "data": {
      "text/plain": [
       "540000"
      ]
     },
     "execution_count": 32,
     "metadata": {},
     "output_type": "execute_result"
    }
   ],
   "source": [
    "len(decoder_target_data[decoder_target_data==1])"
   ]
  },
  {
   "cell_type": "code",
   "execution_count": 33,
   "id": "a2b1b7e8",
   "metadata": {},
   "outputs": [
    {
     "data": {
      "text/plain": [
       "540000"
      ]
     },
     "execution_count": 33,
     "metadata": {},
     "output_type": "execute_result"
    }
   ],
   "source": [
    "len(decoder_input_data[decoder_input_data==1])"
   ]
  },
  {
   "cell_type": "code",
   "execution_count": 25,
   "id": "c73c9e49",
   "metadata": {},
   "outputs": [
    {
     "data": {
      "text/plain": [
       "(10000, 37, 71)"
      ]
     },
     "execution_count": 25,
     "metadata": {},
     "output_type": "execute_result"
    }
   ],
   "source": [
    "encoder_input_data.shape"
   ]
  },
  {
   "cell_type": "code",
   "execution_count": 26,
   "id": "6d6b8d0c",
   "metadata": {},
   "outputs": [
    {
     "data": {
      "text/plain": [
       "(10000, 54, 94)"
      ]
     },
     "execution_count": 26,
     "metadata": {},
     "output_type": "execute_result"
    }
   ],
   "source": [
    "decoder_input_data.shape"
   ]
  },
  {
   "cell_type": "code",
   "execution_count": 27,
   "id": "91cfe67c",
   "metadata": {},
   "outputs": [
    {
     "data": {
      "text/plain": [
       "(10000, 54, 71)"
      ]
     },
     "execution_count": 27,
     "metadata": {},
     "output_type": "execute_result"
    }
   ],
   "source": [
    "decoder_target_data.shape"
   ]
  },
  {
   "cell_type": "code",
   "execution_count": 34,
   "id": "30889a03",
   "metadata": {},
   "outputs": [],
   "source": [
    "encoder_inputs = Input(shape=(None, num_encoder_tokens))\n",
    "encoder = LSTM(latent_dim, return_state=True)\n",
    "encoder_outputs, state_h, state_c = encoder(encoder_inputs)\n",
    "\n",
    "encoder_states = [state_h, state_c]\n",
    "\n",
    "decoder_inputs = Input(shape=(None, num_decoder_tokens))\n",
    "\n",
    "decoder_lstm = LSTM(latent_dim, return_sequences=True, return_state=True)\n",
    "decoder_outputs, _, _ = decoder_lstm(decoder_inputs,\n",
    "                                     initial_state=encoder_states)\n",
    "decoder_dense = Dense(num_decoder_tokens, activation='softmax')\n",
    "decoder_outputs = decoder_dense(decoder_outputs)\n",
    "\n",
    "M0 = Model([encoder_inputs, decoder_inputs], decoder_outputs)"
   ]
  },
  {
   "cell_type": "code",
   "execution_count": 35,
   "id": "b807ce42",
   "metadata": {},
   "outputs": [
    {
     "name": "stdout",
     "output_type": "stream",
     "text": [
      "Epoch 1/100\n",
      "125/125 [==============================] - 37s 272ms/step - loss: 1.3752 - accuracy: 0.7007 - val_loss: 1.7668 - val_accuracy: 0.5792\n",
      "Epoch 2/100\n",
      "125/125 [==============================] - 33s 261ms/step - loss: 1.1221 - accuracy: 0.7133 - val_loss: 1.5823 - val_accuracy: 0.5853\n",
      "Epoch 3/100\n",
      "125/125 [==============================] - 31s 246ms/step - loss: 1.0470 - accuracy: 0.7295 - val_loss: 1.4842 - val_accuracy: 0.6040\n",
      "Epoch 4/100\n",
      "125/125 [==============================] - 31s 247ms/step - loss: 0.9759 - accuracy: 0.7435 - val_loss: 1.3984 - val_accuracy: 0.6318\n",
      "Epoch 5/100\n",
      "125/125 [==============================] - 31s 249ms/step - loss: 0.9250 - accuracy: 0.7550 - val_loss: 1.3666 - val_accuracy: 0.6395\n",
      "Epoch 6/100\n",
      "125/125 [==============================] - 35s 283ms/step - loss: 0.8924 - accuracy: 0.7626 - val_loss: 1.3016 - val_accuracy: 0.6569\n",
      "Epoch 7/100\n",
      "125/125 [==============================] - 41s 326ms/step - loss: 0.8697 - accuracy: 0.7675 - val_loss: 1.2824 - val_accuracy: 0.6575\n",
      "Epoch 8/100\n",
      "125/125 [==============================] - 32s 254ms/step - loss: 0.8521 - accuracy: 0.7711 - val_loss: 1.2627 - val_accuracy: 0.6635\n",
      "Epoch 9/100\n",
      "125/125 [==============================] - 32s 253ms/step - loss: 0.8379 - accuracy: 0.7737 - val_loss: 1.2636 - val_accuracy: 0.6565\n",
      "Epoch 10/100\n",
      "125/125 [==============================] - 33s 260ms/step - loss: 0.8258 - accuracy: 0.7763 - val_loss: 1.2390 - val_accuracy: 0.6659\n",
      "Epoch 11/100\n",
      "125/125 [==============================] - 31s 252ms/step - loss: 0.8146 - accuracy: 0.7783 - val_loss: 1.2168 - val_accuracy: 0.6692\n",
      "Epoch 12/100\n",
      "125/125 [==============================] - 32s 256ms/step - loss: 0.8038 - accuracy: 0.7808 - val_loss: 1.2081 - val_accuracy: 0.6719\n",
      "Epoch 13/100\n",
      "125/125 [==============================] - 33s 263ms/step - loss: 0.7949 - accuracy: 0.7828 - val_loss: 1.1954 - val_accuracy: 0.6774\n",
      "Epoch 14/100\n",
      "125/125 [==============================] - 32s 255ms/step - loss: 0.7855 - accuracy: 0.7853 - val_loss: 1.1952 - val_accuracy: 0.6719\n",
      "Epoch 15/100\n",
      "125/125 [==============================] - 33s 264ms/step - loss: 0.7769 - accuracy: 0.7872 - val_loss: 1.1800 - val_accuracy: 0.6751\n",
      "Epoch 16/100\n",
      "125/125 [==============================] - 33s 261ms/step - loss: 0.7686 - accuracy: 0.7887 - val_loss: 1.1704 - val_accuracy: 0.6782\n",
      "Epoch 17/100\n",
      "125/125 [==============================] - 31s 252ms/step - loss: 0.7607 - accuracy: 0.7908 - val_loss: 1.1570 - val_accuracy: 0.6822\n",
      "Epoch 18/100\n",
      "125/125 [==============================] - 32s 257ms/step - loss: 0.7528 - accuracy: 0.7925 - val_loss: 1.1504 - val_accuracy: 0.6857\n",
      "Epoch 19/100\n",
      "125/125 [==============================] - 32s 258ms/step - loss: 0.7457 - accuracy: 0.7944 - val_loss: 1.1424 - val_accuracy: 0.6857\n",
      "Epoch 20/100\n",
      "125/125 [==============================] - 32s 258ms/step - loss: 0.7384 - accuracy: 0.7961 - val_loss: 1.1250 - val_accuracy: 0.6897\n",
      "Epoch 21/100\n",
      "125/125 [==============================] - 32s 257ms/step - loss: 0.7313 - accuracy: 0.7981 - val_loss: 1.1307 - val_accuracy: 0.6886\n",
      "Epoch 22/100\n",
      "125/125 [==============================] - 33s 264ms/step - loss: 0.7246 - accuracy: 0.7996 - val_loss: 1.1165 - val_accuracy: 0.6931\n",
      "Epoch 23/100\n",
      "125/125 [==============================] - 32s 254ms/step - loss: 0.7180 - accuracy: 0.8019 - val_loss: 1.1158 - val_accuracy: 0.6914\n",
      "Epoch 24/100\n",
      "125/125 [==============================] - 32s 255ms/step - loss: 0.7118 - accuracy: 0.8031 - val_loss: 1.1013 - val_accuracy: 0.6959\n",
      "Epoch 25/100\n",
      "125/125 [==============================] - 34s 274ms/step - loss: 0.7052 - accuracy: 0.8046 - val_loss: 1.1022 - val_accuracy: 0.6945\n",
      "Epoch 26/100\n",
      "125/125 [==============================] - 32s 255ms/step - loss: 0.6997 - accuracy: 0.8061 - val_loss: 1.0911 - val_accuracy: 0.6977\n",
      "Epoch 27/100\n",
      "125/125 [==============================] - 32s 257ms/step - loss: 0.6936 - accuracy: 0.8080 - val_loss: 1.0822 - val_accuracy: 0.7010\n",
      "Epoch 28/100\n",
      "125/125 [==============================] - 32s 253ms/step - loss: 0.6880 - accuracy: 0.8093 - val_loss: 1.0856 - val_accuracy: 0.6984\n",
      "Epoch 29/100\n",
      "125/125 [==============================] - 33s 261ms/step - loss: 0.6824 - accuracy: 0.8107 - val_loss: 1.0733 - val_accuracy: 0.7026\n",
      "Epoch 30/100\n",
      "125/125 [==============================] - 33s 262ms/step - loss: 0.6773 - accuracy: 0.8118 - val_loss: 1.0794 - val_accuracy: 0.7015\n",
      "Epoch 31/100\n",
      "125/125 [==============================] - 32s 255ms/step - loss: 0.6721 - accuracy: 0.8134 - val_loss: 1.0657 - val_accuracy: 0.7046\n",
      "Epoch 32/100\n",
      "125/125 [==============================] - 60s 483ms/step - loss: 0.6669 - accuracy: 0.8147 - val_loss: 1.0804 - val_accuracy: 0.7014\n",
      "Epoch 33/100\n",
      "125/125 [==============================] - 84s 670ms/step - loss: 0.6625 - accuracy: 0.8158 - val_loss: 1.0653 - val_accuracy: 0.7064\n",
      "Epoch 34/100\n",
      "125/125 [==============================] - 65s 522ms/step - loss: 0.6573 - accuracy: 0.8170 - val_loss: 1.0603 - val_accuracy: 0.7052\n",
      "Epoch 35/100\n",
      "125/125 [==============================] - 66s 531ms/step - loss: 0.6529 - accuracy: 0.8183 - val_loss: 1.0651 - val_accuracy: 0.7050\n",
      "Epoch 36/100\n",
      "125/125 [==============================] - 65s 525ms/step - loss: 0.6479 - accuracy: 0.8197 - val_loss: 1.0532 - val_accuracy: 0.7101\n",
      "Epoch 37/100\n",
      "125/125 [==============================] - 64s 513ms/step - loss: 0.6430 - accuracy: 0.8209 - val_loss: 1.0529 - val_accuracy: 0.7093\n",
      "Epoch 38/100\n",
      "125/125 [==============================] - 62s 500ms/step - loss: 0.6389 - accuracy: 0.8216 - val_loss: 1.0518 - val_accuracy: 0.7081\n",
      "Epoch 39/100\n",
      "125/125 [==============================] - 63s 506ms/step - loss: 0.6344 - accuracy: 0.8228 - val_loss: 1.0520 - val_accuracy: 0.7089\n",
      "Epoch 40/100\n",
      "125/125 [==============================] - 63s 505ms/step - loss: 0.6298 - accuracy: 0.8244 - val_loss: 1.0467 - val_accuracy: 0.7131\n",
      "Epoch 41/100\n",
      "125/125 [==============================] - 64s 511ms/step - loss: 0.6256 - accuracy: 0.8253 - val_loss: 1.0435 - val_accuracy: 0.7108\n",
      "Epoch 42/100\n",
      "125/125 [==============================] - 62s 498ms/step - loss: 0.6211 - accuracy: 0.8267 - val_loss: 1.0525 - val_accuracy: 0.7078\n",
      "Epoch 43/100\n",
      "125/125 [==============================] - 63s 505ms/step - loss: 0.6168 - accuracy: 0.8275 - val_loss: 1.0398 - val_accuracy: 0.7140\n",
      "Epoch 44/100\n",
      "125/125 [==============================] - 63s 506ms/step - loss: 0.6128 - accuracy: 0.8288 - val_loss: 1.0401 - val_accuracy: 0.7131\n",
      "Epoch 45/100\n",
      "125/125 [==============================] - 62s 500ms/step - loss: 0.6084 - accuracy: 0.8296 - val_loss: 1.0437 - val_accuracy: 0.7128\n",
      "Epoch 46/100\n",
      "125/125 [==============================] - 62s 494ms/step - loss: 0.6042 - accuracy: 0.8310 - val_loss: 1.0435 - val_accuracy: 0.7109\n",
      "Epoch 47/100\n",
      "125/125 [==============================] - 76s 612ms/step - loss: 0.5999 - accuracy: 0.8320 - val_loss: 1.0410 - val_accuracy: 0.7132\n",
      "Epoch 48/100\n",
      "125/125 [==============================] - 64s 511ms/step - loss: 0.5959 - accuracy: 0.8332 - val_loss: 1.0405 - val_accuracy: 0.7132\n",
      "Epoch 49/100\n",
      "125/125 [==============================] - 63s 508ms/step - loss: 0.5916 - accuracy: 0.8344 - val_loss: 1.0490 - val_accuracy: 0.7115\n",
      "Epoch 50/100\n",
      "125/125 [==============================] - 63s 508ms/step - loss: 0.5878 - accuracy: 0.8353 - val_loss: 1.0386 - val_accuracy: 0.7137\n",
      "Epoch 51/100\n",
      "125/125 [==============================] - 64s 510ms/step - loss: 0.5845 - accuracy: 0.8364 - val_loss: 1.0499 - val_accuracy: 0.7113\n",
      "Epoch 52/100\n",
      "125/125 [==============================] - 64s 512ms/step - loss: 0.5809 - accuracy: 0.8373 - val_loss: 1.0454 - val_accuracy: 0.7136\n",
      "Epoch 53/100\n",
      "125/125 [==============================] - 64s 512ms/step - loss: 0.5757 - accuracy: 0.8385 - val_loss: 1.0509 - val_accuracy: 0.7113\n",
      "Epoch 54/100\n",
      "125/125 [==============================] - 64s 510ms/step - loss: 0.5781 - accuracy: 0.8383 - val_loss: 1.0495 - val_accuracy: 0.7126\n",
      "Epoch 55/100\n",
      "125/125 [==============================] - 64s 511ms/step - loss: 0.5686 - accuracy: 0.8407 - val_loss: 1.0495 - val_accuracy: 0.7124\n",
      "Epoch 56/100\n",
      "125/125 [==============================] - 64s 514ms/step - loss: 0.5643 - accuracy: 0.8419 - val_loss: 1.0529 - val_accuracy: 0.7121\n",
      "Epoch 57/100\n",
      "125/125 [==============================] - 65s 518ms/step - loss: 0.5602 - accuracy: 0.8427 - val_loss: 1.0535 - val_accuracy: 0.7144\n",
      "Epoch 58/100\n",
      "125/125 [==============================] - 65s 517ms/step - loss: 0.5562 - accuracy: 0.8439 - val_loss: 1.0597 - val_accuracy: 0.7122\n",
      "Epoch 59/100\n",
      "125/125 [==============================] - 64s 514ms/step - loss: 0.5522 - accuracy: 0.8451 - val_loss: 1.0569 - val_accuracy: 0.7115\n",
      "Epoch 60/100\n",
      "125/125 [==============================] - 70s 557ms/step - loss: 0.5486 - accuracy: 0.8461 - val_loss: 1.0701 - val_accuracy: 0.7093\n",
      "Epoch 61/100\n",
      "125/125 [==============================] - 75s 600ms/step - loss: 0.5446 - accuracy: 0.8472 - val_loss: 1.0648 - val_accuracy: 0.7119\n",
      "Epoch 62/100\n",
      "125/125 [==============================] - 65s 517ms/step - loss: 0.5408 - accuracy: 0.8483 - val_loss: 1.0612 - val_accuracy: 0.7139\n",
      "Epoch 63/100\n",
      "125/125 [==============================] - 64s 513ms/step - loss: 0.5369 - accuracy: 0.8492 - val_loss: 1.0570 - val_accuracy: 0.7156\n",
      "Epoch 64/100\n",
      "125/125 [==============================] - 64s 515ms/step - loss: 0.5328 - accuracy: 0.8503 - val_loss: 1.0757 - val_accuracy: 0.7114\n",
      "Epoch 65/100\n",
      "125/125 [==============================] - 64s 513ms/step - loss: 0.5297 - accuracy: 0.8508 - val_loss: 1.0668 - val_accuracy: 0.7121\n",
      "Epoch 66/100\n",
      "125/125 [==============================] - 64s 513ms/step - loss: 0.5258 - accuracy: 0.8522 - val_loss: 1.0704 - val_accuracy: 0.7132\n",
      "Epoch 67/100\n",
      "125/125 [==============================] - 65s 517ms/step - loss: 0.5217 - accuracy: 0.8532 - val_loss: 1.0844 - val_accuracy: 0.7117\n",
      "Epoch 68/100\n",
      "125/125 [==============================] - 64s 512ms/step - loss: 0.5183 - accuracy: 0.8540 - val_loss: 1.0818 - val_accuracy: 0.7122\n",
      "Epoch 69/100\n",
      "125/125 [==============================] - 64s 514ms/step - loss: 0.5144 - accuracy: 0.8550 - val_loss: 1.0871 - val_accuracy: 0.7122\n",
      "Epoch 70/100\n",
      "125/125 [==============================] - 64s 513ms/step - loss: 0.5112 - accuracy: 0.8561 - val_loss: 1.0882 - val_accuracy: 0.7122\n",
      "Epoch 71/100\n",
      "125/125 [==============================] - 64s 511ms/step - loss: 0.5073 - accuracy: 0.8568 - val_loss: 1.0975 - val_accuracy: 0.7111\n",
      "Epoch 72/100\n",
      "125/125 [==============================] - 64s 513ms/step - loss: 0.5037 - accuracy: 0.8580 - val_loss: 1.0898 - val_accuracy: 0.7105\n",
      "Epoch 73/100\n",
      "125/125 [==============================] - 64s 516ms/step - loss: 0.5003 - accuracy: 0.8585 - val_loss: 1.1111 - val_accuracy: 0.7090\n",
      "Epoch 74/100\n",
      "125/125 [==============================] - 75s 605ms/step - loss: 0.4969 - accuracy: 0.8600 - val_loss: 1.1047 - val_accuracy: 0.7114\n",
      "Epoch 75/100\n",
      "125/125 [==============================] - 68s 540ms/step - loss: 0.4929 - accuracy: 0.8609 - val_loss: 1.1048 - val_accuracy: 0.7109\n",
      "Epoch 76/100\n",
      "125/125 [==============================] - 65s 521ms/step - loss: 0.4902 - accuracy: 0.8617 - val_loss: 1.1155 - val_accuracy: 0.7091\n",
      "Epoch 77/100\n",
      "125/125 [==============================] - 66s 525ms/step - loss: 0.4860 - accuracy: 0.8629 - val_loss: 1.1164 - val_accuracy: 0.7111\n",
      "Epoch 78/100\n",
      "125/125 [==============================] - 65s 520ms/step - loss: 0.4830 - accuracy: 0.8636 - val_loss: 1.1302 - val_accuracy: 0.7086\n",
      "Epoch 79/100\n",
      "125/125 [==============================] - 65s 522ms/step - loss: 0.4799 - accuracy: 0.8645 - val_loss: 1.1249 - val_accuracy: 0.7104\n",
      "Epoch 80/100\n",
      "125/125 [==============================] - 67s 534ms/step - loss: 0.4762 - accuracy: 0.8655 - val_loss: 1.1343 - val_accuracy: 0.7086\n",
      "Epoch 81/100\n",
      "125/125 [==============================] - 65s 522ms/step - loss: 0.4729 - accuracy: 0.8663 - val_loss: 1.1401 - val_accuracy: 0.7084\n",
      "Epoch 82/100\n",
      "125/125 [==============================] - 65s 524ms/step - loss: 0.4696 - accuracy: 0.8671 - val_loss: 1.1440 - val_accuracy: 0.7080\n",
      "Epoch 83/100\n",
      "125/125 [==============================] - 65s 518ms/step - loss: 0.4664 - accuracy: 0.8682 - val_loss: 1.1412 - val_accuracy: 0.7100\n",
      "Epoch 84/100\n",
      "125/125 [==============================] - 65s 522ms/step - loss: 0.4631 - accuracy: 0.8691 - val_loss: 1.1552 - val_accuracy: 0.7072\n",
      "Epoch 85/100\n",
      "125/125 [==============================] - 65s 522ms/step - loss: 0.4599 - accuracy: 0.8695 - val_loss: 1.1537 - val_accuracy: 0.7087\n",
      "Epoch 86/100\n",
      "125/125 [==============================] - 65s 523ms/step - loss: 0.4566 - accuracy: 0.8709 - val_loss: 1.1576 - val_accuracy: 0.7094\n",
      "Epoch 87/100\n",
      "125/125 [==============================] - 65s 521ms/step - loss: 0.4534 - accuracy: 0.8715 - val_loss: 1.1673 - val_accuracy: 0.7079\n",
      "Epoch 88/100\n",
      "125/125 [==============================] - 82s 659ms/step - loss: 0.4502 - accuracy: 0.8725 - val_loss: 1.1720 - val_accuracy: 0.7083\n",
      "Epoch 89/100\n",
      "125/125 [==============================] - 66s 524ms/step - loss: 0.4474 - accuracy: 0.8734 - val_loss: 1.1673 - val_accuracy: 0.7088\n",
      "Epoch 90/100\n",
      "125/125 [==============================] - 65s 523ms/step - loss: 0.4445 - accuracy: 0.8741 - val_loss: 1.1869 - val_accuracy: 0.7071\n",
      "Epoch 91/100\n",
      "125/125 [==============================] - 66s 526ms/step - loss: 0.4411 - accuracy: 0.8750 - val_loss: 1.1908 - val_accuracy: 0.7066\n",
      "Epoch 92/100\n",
      "125/125 [==============================] - 65s 523ms/step - loss: 0.4383 - accuracy: 0.8761 - val_loss: 1.1952 - val_accuracy: 0.7072\n",
      "Epoch 93/100\n",
      "125/125 [==============================] - 65s 522ms/step - loss: 0.4351 - accuracy: 0.8767 - val_loss: 1.2034 - val_accuracy: 0.7062\n",
      "Epoch 94/100\n",
      "125/125 [==============================] - 65s 523ms/step - loss: 0.4320 - accuracy: 0.8778 - val_loss: 1.2125 - val_accuracy: 0.7039\n",
      "Epoch 95/100\n",
      "125/125 [==============================] - 65s 524ms/step - loss: 0.4296 - accuracy: 0.8786 - val_loss: 1.2100 - val_accuracy: 0.7058\n",
      "Epoch 96/100\n",
      "125/125 [==============================] - 65s 523ms/step - loss: 0.4268 - accuracy: 0.8791 - val_loss: 1.2200 - val_accuracy: 0.7052\n",
      "Epoch 97/100\n",
      "125/125 [==============================] - 65s 524ms/step - loss: 0.4237 - accuracy: 0.8801 - val_loss: 1.2232 - val_accuracy: 0.7056\n",
      "Epoch 98/100\n",
      "125/125 [==============================] - 66s 529ms/step - loss: 0.4209 - accuracy: 0.8809 - val_loss: 1.2279 - val_accuracy: 0.7061\n",
      "Epoch 99/100\n",
      "125/125 [==============================] - 66s 531ms/step - loss: 0.4185 - accuracy: 0.8818 - val_loss: 1.2453 - val_accuracy: 0.7046\n",
      "Epoch 100/100\n",
      "125/125 [==============================] - 66s 532ms/step - loss: 0.4154 - accuracy: 0.8824 - val_loss: 1.2446 - val_accuracy: 0.7038\n"
     ]
    },
    {
     "data": {
      "text/plain": [
       "<keras.callbacks.History at 0x2eba34999a0>"
      ]
     },
     "execution_count": 35,
     "metadata": {},
     "output_type": "execute_result"
    }
   ],
   "source": [
    "M0.compile(optimizer='rmsprop', loss='categorical_crossentropy',metrics = ['accuracy'])\n",
    "\n",
    "M0.fit([encoder_input_data, decoder_input_data], decoder_target_data,batch_size=batch_size,epochs=epochs,validation_split=0.2)"
   ]
  },
  {
   "cell_type": "code",
   "execution_count": 36,
   "id": "8ce2eb59",
   "metadata": {},
   "outputs": [],
   "source": [
    "M0.save('C:/Users/Nithin/Downloads/Machine Transalation_AI_Seq2Seq/Models/Machine Transalation.h5')"
   ]
  },
  {
   "cell_type": "code",
   "execution_count": 38,
   "id": "be71d5e6",
   "metadata": {},
   "outputs": [],
   "source": [
    "encoder_model = Model(encoder_inputs, encoder_states)\n",
    "\n",
    "decoder_state_input_h = Input(shape=(latent_dim,))\n",
    "decoder_state_input_c = Input(shape=(latent_dim,))\n",
    "decoder_states_inputs = [decoder_state_input_h, decoder_state_input_c]\n",
    "decoder_outputs, state_h, state_c = decoder_lstm(\n",
    "    decoder_inputs, initial_state=decoder_states_inputs)\n",
    "decoder_states = [state_h, state_c]\n",
    "decoder_outputs = decoder_dense(decoder_outputs)\n",
    "decoder_model = Model(\n",
    "    [decoder_inputs] + decoder_states_inputs,\n",
    "    [decoder_outputs] + decoder_states)\n",
    "\n",
    "reverse_input_char_index = dict(\n",
    "    (i, char) for char, i in input_token_index.items())\n",
    "reverse_target_char_index = dict(\n",
    "    (i, char) for char, i in target_token_index.items())"
   ]
  },
  {
   "cell_type": "code",
   "execution_count": 39,
   "id": "5bfef44c",
   "metadata": {},
   "outputs": [],
   "source": [
    "def decode_sequence(input_seq):\n",
    "    states_value = encoder_model.predict(input_seq)\n",
    "\n",
    "    target_seq = np.zeros((1, 1, num_decoder_tokens))\n",
    "    target_seq[0, 0, target_token_index['\\t']] = 1.\n",
    "\n",
    "    stop_condition = False\n",
    "    decoded_sentence = ''\n",
    "    while not stop_condition:\n",
    "        output_tokens, h, c = decoder_model.predict(\n",
    "            [target_seq] + states_value)\n",
    "\n",
    "        sampled_token_index = np.argmax(output_tokens[0, -1, :])\n",
    "        sampled_char = reverse_target_char_index[sampled_token_index]\n",
    "        decoded_sentence += sampled_char\n",
    "\n",
    "        if (sampled_char == '\\n' or\n",
    "           len(decoded_sentence) > max_decoder_seq_length):\n",
    "            stop_condition = True\n",
    "\n",
    "        target_seq = np.zeros((1, 1, num_decoder_tokens))\n",
    "        target_seq[0, 0, sampled_token_index] = 1.\n",
    "\n",
    "        states_value = [h, c]\n",
    "\n",
    "    return decoded_sentence"
   ]
  },
  {
   "cell_type": "code",
   "execution_count": 43,
   "id": "5349ebd1",
   "metadata": {},
   "outputs": [
    {
     "name": "stdout",
     "output_type": "stream",
     "text": [
      "1/1 [==============================] - 0s 65ms/step\n",
      "1/1 [==============================] - 0s 70ms/step\n",
      "1/1 [==============================] - 0s 60ms/step\n",
      "1/1 [==============================] - 0s 66ms/step\n",
      "1/1 [==============================] - 0s 59ms/step\n",
      "1/1 [==============================] - 0s 57ms/step\n",
      "1/1 [==============================] - 0s 59ms/step\n",
      "1/1 [==============================] - 0s 63ms/step\n",
      "1/1 [==============================] - 0s 63ms/step\n",
      "1/1 [==============================] - 0s 59ms/step\n",
      "1/1 [==============================] - 0s 65ms/step\n",
      "1/1 [==============================] - 0s 64ms/step\n",
      "1/1 [==============================] - 0s 73ms/step\n",
      "1/1 [==============================] - 0s 61ms/step\n",
      "1/1 [==============================] - 0s 58ms/step\n",
      "1/1 [==============================] - 0s 67ms/step\n",
      "1/1 [==============================] - 0s 60ms/step\n",
      "1/1 [==============================] - 0s 61ms/step\n",
      "1/1 [==============================] - 0s 64ms/step\n",
      "1/1 [==============================] - 0s 60ms/step\n",
      "1/1 [==============================] - 0s 64ms/step\n",
      "1/1 [==============================] - 0s 56ms/step\n",
      "1/1 [==============================] - 0s 60ms/step\n",
      "1/1 [==============================] - 0s 64ms/step\n",
      "1/1 [==============================] - 0s 54ms/step\n",
      "1/1 [==============================] - 0s 66ms/step\n",
      "1/1 [==============================] - 0s 77ms/step\n",
      "1/1 [==============================] - 0s 70ms/step\n",
      "1/1 [==============================] - 0s 66ms/step\n",
      "1/1 [==============================] - 0s 57ms/step\n",
      "1/1 [==============================] - 0s 60ms/step\n",
      "1/1 [==============================] - 0s 55ms/step\n",
      "1/1 [==============================] - 0s 69ms/step\n",
      "1/1 [==============================] - 0s 60ms/step\n",
      "-\n",
      "Hi.\n",
      "أنا أعرف من أين أن أشاره الحامة.\n",
      "\n",
      "1/1 [==============================] - 0s 75ms/step\n",
      "1/1 [==============================] - 0s 60ms/step\n",
      "1/1 [==============================] - 0s 64ms/step\n",
      "1/1 [==============================] - 0s 50ms/step\n",
      "1/1 [==============================] - 0s 59ms/step\n",
      "1/1 [==============================] - 0s 60ms/step\n",
      "1/1 [==============================] - 0s 70ms/step\n",
      "1/1 [==============================] - 0s 60ms/step\n",
      "1/1 [==============================] - 0s 70ms/step\n",
      "1/1 [==============================] - 0s 60ms/step\n",
      "1/1 [==============================] - 0s 61ms/step\n",
      "1/1 [==============================] - 0s 63ms/step\n",
      "1/1 [==============================] - 0s 66ms/step\n",
      "1/1 [==============================] - 0s 60ms/step\n",
      "1/1 [==============================] - 0s 62ms/step\n",
      "1/1 [==============================] - 0s 60ms/step\n",
      "1/1 [==============================] - 0s 65ms/step\n",
      "1/1 [==============================] - 0s 56ms/step\n",
      "1/1 [==============================] - 0s 54ms/step\n",
      "1/1 [==============================] - 0s 59ms/step\n",
      "1/1 [==============================] - 0s 55ms/step\n",
      "1/1 [==============================] - 0s 59ms/step\n",
      "1/1 [==============================] - 0s 63ms/step\n",
      "1/1 [==============================] - 0s 67ms/step\n",
      "1/1 [==============================] - 0s 54ms/step\n",
      "1/1 [==============================] - 0s 62ms/step\n",
      "1/1 [==============================] - 0s 60ms/step\n",
      "1/1 [==============================] - 0s 60ms/step\n",
      "1/1 [==============================] - 0s 59ms/step\n",
      "1/1 [==============================] - 0s 70ms/step\n",
      "1/1 [==============================] - 0s 63ms/step\n",
      "1/1 [==============================] - 0s 70ms/step\n",
      "1/1 [==============================] - 0s 63ms/step\n",
      "1/1 [==============================] - 0s 60ms/step\n",
      "-\n",
      "Run!\n",
      "أنا أعرف من أين أن أشاره الحامة.\n",
      "\n",
      "1/1 [==============================] - 0s 64ms/step\n",
      "1/1 [==============================] - 0s 57ms/step\n",
      "1/1 [==============================] - 0s 55ms/step\n",
      "1/1 [==============================] - 0s 60ms/step\n",
      "1/1 [==============================] - 0s 70ms/step\n",
      "1/1 [==============================] - 0s 66ms/step\n",
      "1/1 [==============================] - 0s 62ms/step\n",
      "1/1 [==============================] - 0s 57ms/step\n",
      "1/1 [==============================] - 0s 58ms/step\n",
      "1/1 [==============================] - 0s 76ms/step\n",
      "1/1 [==============================] - 0s 61ms/step\n",
      "1/1 [==============================] - 0s 67ms/step\n",
      "1/1 [==============================] - 0s 61ms/step\n",
      "1/1 [==============================] - 0s 57ms/step\n",
      "1/1 [==============================] - 0s 60ms/step\n",
      "1/1 [==============================] - 0s 61ms/step\n",
      "1/1 [==============================] - 0s 67ms/step\n",
      "1/1 [==============================] - 0s 55ms/step\n",
      "1/1 [==============================] - 0s 56ms/step\n",
      "1/1 [==============================] - 0s 65ms/step\n",
      "1/1 [==============================] - 0s 54ms/step\n",
      "1/1 [==============================] - 0s 60ms/step\n",
      "1/1 [==============================] - 0s 60ms/step\n",
      "1/1 [==============================] - 0s 63ms/step\n",
      "1/1 [==============================] - 0s 71ms/step\n",
      "1/1 [==============================] - 0s 59ms/step\n",
      "1/1 [==============================] - 0s 56ms/step\n",
      "1/1 [==============================] - 0s 58ms/step\n",
      "1/1 [==============================] - 0s 58ms/step\n",
      "1/1 [==============================] - 0s 60ms/step\n",
      "1/1 [==============================] - 0s 60ms/step\n",
      "1/1 [==============================] - 0s 52ms/step\n",
      "1/1 [==============================] - 0s 70ms/step\n",
      "1/1 [==============================] - 0s 62ms/step\n",
      "-\n",
      "Duck!\n",
      "أنا أعرف من أين أن أشاره الحاية.\n",
      "\n",
      "1/1 [==============================] - 0s 67ms/step\n",
      "1/1 [==============================] - 0s 66ms/step\n",
      "1/1 [==============================] - 0s 62ms/step\n",
      "1/1 [==============================] - 0s 65ms/step\n",
      "1/1 [==============================] - 0s 65ms/step\n",
      "1/1 [==============================] - 0s 61ms/step\n",
      "1/1 [==============================] - 0s 64ms/step\n",
      "1/1 [==============================] - 0s 61ms/step\n",
      "1/1 [==============================] - 0s 67ms/step\n",
      "1/1 [==============================] - 0s 64ms/step\n",
      "1/1 [==============================] - 0s 60ms/step\n",
      "1/1 [==============================] - 0s 59ms/step\n",
      "1/1 [==============================] - 0s 62ms/step\n",
      "1/1 [==============================] - 0s 68ms/step\n",
      "1/1 [==============================] - 0s 60ms/step\n",
      "1/1 [==============================] - 0s 60ms/step\n",
      "1/1 [==============================] - 0s 59ms/step\n",
      "1/1 [==============================] - 0s 67ms/step\n",
      "1/1 [==============================] - 0s 61ms/step\n",
      "1/1 [==============================] - 0s 68ms/step\n",
      "1/1 [==============================] - 0s 60ms/step\n",
      "1/1 [==============================] - 0s 63ms/step\n",
      "1/1 [==============================] - 0s 60ms/step\n",
      "1/1 [==============================] - 0s 57ms/step\n",
      "1/1 [==============================] - 0s 56ms/step\n",
      "1/1 [==============================] - 0s 60ms/step\n",
      "1/1 [==============================] - 0s 75ms/step\n",
      "1/1 [==============================] - 0s 65ms/step\n",
      "1/1 [==============================] - 0s 66ms/step\n",
      "1/1 [==============================] - 0s 64ms/step\n",
      "1/1 [==============================] - 0s 64ms/step\n",
      "1/1 [==============================] - 0s 63ms/step\n",
      "1/1 [==============================] - 0s 61ms/step\n",
      "1/1 [==============================] - 0s 53ms/step\n",
      "-\n",
      "Duck!\n",
      "أنا أعرف من أين أن أشاره الحاية.\n",
      "\n",
      "1/1 [==============================] - 0s 55ms/step\n",
      "1/1 [==============================] - 0s 68ms/step\n",
      "1/1 [==============================] - 0s 64ms/step\n",
      "1/1 [==============================] - 0s 62ms/step\n",
      "1/1 [==============================] - 0s 55ms/step\n",
      "1/1 [==============================] - 0s 57ms/step\n",
      "1/1 [==============================] - 0s 65ms/step\n",
      "1/1 [==============================] - 0s 61ms/step\n",
      "1/1 [==============================] - 0s 71ms/step\n",
      "1/1 [==============================] - 0s 75ms/step\n",
      "1/1 [==============================] - 0s 68ms/step\n",
      "1/1 [==============================] - 0s 48ms/step\n",
      "1/1 [==============================] - 0s 64ms/step\n",
      "1/1 [==============================] - 0s 63ms/step\n",
      "1/1 [==============================] - 0s 60ms/step\n",
      "1/1 [==============================] - 0s 62ms/step\n",
      "1/1 [==============================] - 0s 85ms/step\n",
      "1/1 [==============================] - 0s 60ms/step\n",
      "1/1 [==============================] - 0s 62ms/step\n",
      "1/1 [==============================] - 0s 69ms/step\n",
      "1/1 [==============================] - 0s 62ms/step\n",
      "1/1 [==============================] - 0s 63ms/step\n",
      "1/1 [==============================] - 0s 80ms/step\n",
      "1/1 [==============================] - 0s 63ms/step\n",
      "1/1 [==============================] - 0s 59ms/step\n",
      "1/1 [==============================] - 0s 65ms/step\n",
      "1/1 [==============================] - 0s 67ms/step\n",
      "1/1 [==============================] - 0s 65ms/step\n",
      "1/1 [==============================] - 0s 65ms/step\n",
      "1/1 [==============================] - 0s 48ms/step\n",
      "1/1 [==============================] - 0s 60ms/step\n",
      "1/1 [==============================] - 0s 60ms/step\n",
      "1/1 [==============================] - 0s 65ms/step\n",
      "1/1 [==============================] - 0s 64ms/step\n",
      "-\n",
      "Duck!\n",
      "أنا أعرف من أين أن أشاره الحاية.\n",
      "\n"
     ]
    }
   ],
   "source": [
    "for seq_index in range(5):\n",
    "    \n",
    "    input_seq = encoder_input_data[seq_index: seq_index + 1]\n",
    "    decoded_sentence = decode_sequence(input_seq)\n",
    "    print('-')\n",
    "    print(input_texts[seq_index])\n",
    "    print(decoded_sentence)"
   ]
  }
 ],
 "metadata": {
  "kernelspec": {
   "display_name": "Python 3 (ipykernel)",
   "language": "python",
   "name": "python3"
  },
  "language_info": {
   "codemirror_mode": {
    "name": "ipython",
    "version": 3
   },
   "file_extension": ".py",
   "mimetype": "text/x-python",
   "name": "python",
   "nbconvert_exporter": "python",
   "pygments_lexer": "ipython3",
   "version": "3.9.7"
  }
 },
 "nbformat": 4,
 "nbformat_minor": 5
}
